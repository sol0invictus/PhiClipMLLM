{
 "cells": [
  {
   "cell_type": "code",
   "execution_count": 1,
   "metadata": {},
   "outputs": [
    {
     "name": "stderr",
     "output_type": "stream",
     "text": [
      "c:\\Users\\sunny\\.conda\\envs\\condapy12\\Lib\\site-packages\\tqdm\\auto.py:21: TqdmWarning: IProgress not found. Please update jupyter and ipywidgets. See https://ipywidgets.readthedocs.io/en/stable/user_install.html\n",
      "  from .autonotebook import tqdm as notebook_tqdm\n"
     ]
    }
   ],
   "source": [
    "from model import PhiClipMLLM\n",
    "import torch"
   ]
  },
  {
   "cell_type": "markdown",
   "metadata": {},
   "source": [
    "We first try out the phase 1 checkpoint."
   ]
  },
  {
   "cell_type": "code",
   "execution_count": 2,
   "metadata": {},
   "outputs": [
    {
     "name": "stderr",
     "output_type": "stream",
     "text": [
      "c:\\Users\\sunny\\Desktop\\projects\\PhiClipMLLM\\model.py:462: FutureWarning: You are using `torch.load` with `weights_only=False` (the current default value), which uses the default pickle module implicitly. It is possible to construct malicious pickle data which will execute arbitrary code during unpickling (See https://github.com/pytorch/pytorch/blob/main/SECURITY.md#untrusted-models for more details). In a future release, the default value for `weights_only` will be flipped to `True`. This limits the functions that could be executed during unpickling. Arbitrary objects will no longer be allowed to be loaded via this mode unless they are explicitly allowlisted by the user via `torch.serialization.add_safe_globals`. We recommend you start setting `weights_only=True` for any use case where you don't have full control of the loaded file. Please open an issue on GitHub for any issues related to this experimental feature.\n",
      "  checkpoint = torch.load(checkpoint_file, map_location=\"cuda\")\n"
     ]
    },
    {
     "name": "stdout",
     "output_type": "stream",
     "text": [
      "Checkpoint loaded\n",
      "Vision model loaded\n",
      "Text model loaded\n",
      "Vision adapter loaded\n"
     ]
    }
   ],
   "source": [
    "mllm = PhiClipMLLM.from_pretrained(r\"C:\\Users\\sunny\\Desktop\\mllm\\checkpoint_dir\\checkpoint-14786\\model_checkpoint.pt\", dtype=torch.bfloat16)"
   ]
  },
  {
   "cell_type": "code",
   "execution_count": 5,
   "metadata": {},
   "outputs": [
    {
     "name": "stderr",
     "output_type": "stream",
     "text": [
      "c:\\Users\\sunny\\.conda\\envs\\condapy12\\Lib\\site-packages\\transformers\\generation\\configuration_utils.py:590: UserWarning: `do_sample` is set to `False`. However, `temperature` is set to `0.0` -- this flag is only used in sample-based generation modes. You should set `do_sample=True` or unset `temperature`.\n",
      "  warnings.warn(\n",
      "c:\\Users\\sunny\\.conda\\envs\\condapy12\\Lib\\site-packages\\transformers\\generation\\configuration_utils.py:595: UserWarning: `do_sample` is set to `False`. However, `top_p` is set to `0.9` -- this flag is only used in sample-based generation modes. You should set `do_sample=True` or unset `top_p`.\n",
      "  warnings.warn(\n"
     ]
    },
    {
     "name": "stdout",
     "output_type": "stream",
     "text": [
      "[\"A dog sitting on a table with his head in front of the ground looking at an animal's back legs and tail upward facing camera\\ndog behind him. \\u200b face down\"]\n"
     ]
    }
   ],
   "source": [
    "from model import generate\n",
    "text = generate(mllm, [\"Describe this image <|placeholder1|> <|placeholder2|>\"], images=[r\".\\test_image\\dune.jpg\"])\n",
    "print(text)"
   ]
  },
  {
   "cell_type": "markdown",
   "metadata": {},
   "source": [
    "Now  we try phase 2 checkpoint"
   ]
  },
  {
   "cell_type": "code",
   "execution_count": 2,
   "metadata": {},
   "outputs": [
    {
     "name": "stderr",
     "output_type": "stream",
     "text": [
      "c:\\Users\\sunny\\Desktop\\projects\\PhiClipMLLM\\model.py:462: FutureWarning: You are using `torch.load` with `weights_only=False` (the current default value), which uses the default pickle module implicitly. It is possible to construct malicious pickle data which will execute arbitrary code during unpickling (See https://github.com/pytorch/pytorch/blob/main/SECURITY.md#untrusted-models for more details). In a future release, the default value for `weights_only` will be flipped to `True`. This limits the functions that could be executed during unpickling. Arbitrary objects will no longer be allowed to be loaded via this mode unless they are explicitly allowlisted by the user via `torch.serialization.add_safe_globals`. We recommend you start setting `weights_only=True` for any use case where you don't have full control of the loaded file. Please open an issue on GitHub for any issues related to this experimental feature.\n",
      "  checkpoint = torch.load(checkpoint_file, map_location=\"cuda\")\n"
     ]
    },
    {
     "name": "stdout",
     "output_type": "stream",
     "text": [
      "Checkpoint loaded\n",
      "Vision model loaded\n",
      "Text model loaded\n",
      "Vision adapter loaded\n"
     ]
    }
   ],
   "source": [
    "mllm = PhiClipMLLM.from_pretrained(r\"C:\\Users\\sunny\\Desktop\\mllm\\checkpoint_dir\\checkpoint-500\\model_checkpoint.pt\", dtype=torch.bfloat16)"
   ]
  },
  {
   "cell_type": "code",
   "execution_count": 3,
   "metadata": {},
   "outputs": [
    {
     "name": "stderr",
     "output_type": "stream",
     "text": [
      "c:\\Users\\sunny\\.conda\\envs\\condapy12\\Lib\\site-packages\\transformers\\generation\\configuration_utils.py:590: UserWarning: `do_sample` is set to `False`. However, `temperature` is set to `0.0` -- this flag is only used in sample-based generation modes. You should set `do_sample=True` or unset `temperature`.\n",
      "  warnings.warn(\n",
      "c:\\Users\\sunny\\.conda\\envs\\condapy12\\Lib\\site-packages\\transformers\\generation\\configuration_utils.py:595: UserWarning: `do_sample` is set to `False`. However, `top_p` is set to `0.9` -- this flag is only used in sample-based generation modes. You should set `do_sample=True` or unset `top_p`.\n",
      "  warnings.warn(\n"
     ]
    },
    {
     "name": "stdout",
     "output_type": "stream",
     "text": [
      "['A dog sitting on a table with its head in front legs up and tail laying down, face looking at the ground facing side of back feet rests pawses 2 black']\n"
     ]
    }
   ],
   "source": [
    "from model import generate\n",
    "text = generate(mllm, [\"Describe this image <|placeholder1|> <|placeholder2|>\"], images=[r\".\\test_image\\dune.jpg\"])\n",
    "print(text)"
   ]
  },
  {
   "cell_type": "markdown",
   "metadata": {},
   "source": [
    "Berhavior of batched computation"
   ]
  },
  {
   "cell_type": "code",
   "execution_count": 11,
   "metadata": {},
   "outputs": [
    {
     "data": {
      "text/plain": [
       "{'logits': tensor([[[22.0000, 21.7500, 23.2500,  ..., 17.6250, 17.6250, 17.6250],\n",
       "          [28.7500, 30.8750, 33.5000,  ..., 26.7500, 26.7500, 26.7500],\n",
       "          [28.2500, 26.5000, 30.5000,  ..., 23.3750, 23.3750, 23.3750],\n",
       "          ...,\n",
       "          [33.2500, 36.5000, 35.0000,  ..., 28.6250, 28.6250, 28.6250],\n",
       "          [35.5000, 36.7500, 35.5000,  ..., 30.5000, 30.5000, 30.5000],\n",
       "          [34.2500, 35.5000, 35.5000,  ..., 29.8750, 29.8750, 29.8750]]],\n",
       "        device='cuda:0', dtype=torch.bfloat16, grad_fn=<UnsafeViewBackward0>),\n",
       " 'loss': tensor(5.5625, device='cuda:0', dtype=torch.bfloat16,\n",
       "        grad_fn=<NllLossBackward0>)}"
      ]
     },
     "execution_count": 11,
     "metadata": {},
     "output_type": "execute_result"
    }
   ],
   "source": [
    "input_texts = [\"Here is an image: <|placeholder1|>. what is happening <|placeholder2|> the happening is what\",\n",
    "            ]\n",
    "input_images = torch.ones(1, 3, 224, 224) \n",
    "\n",
    "out = mllm.__call__(\n",
    "    input_texts = input_texts,\n",
    "    input_images = input_images,\n",
    "    labels = input_texts\n",
    ")\n",
    "out"
   ]
  },
  {
   "cell_type": "code",
   "execution_count": 12,
   "metadata": {},
   "outputs": [
    {
     "data": {
      "text/plain": [
       "tensor(5.2188, device='cuda:0', dtype=torch.bfloat16,\n",
       "       grad_fn=<NllLossBackward0>)"
      ]
     },
     "execution_count": 12,
     "metadata": {},
     "output_type": "execute_result"
    }
   ],
   "source": [
    "input_texts = [\"Here is an image: <|placeholder1|>. what is happening <|placeholder2|> the happening is what\",\n",
    "               \"What is happening: <|placeholder1|>.  <|placeholder2|> What the hell\",\n",
    "            ]\n",
    "input_images = torch.ones(2, 3, 224, 224) \n",
    "\n",
    "out = mllm.__call__(\n",
    "    input_texts = input_texts,\n",
    "    input_images = input_images,\n",
    "    labels = input_texts\n",
    ")\n",
    "out[\"loss\"]"
   ]
  },
  {
   "cell_type": "code",
   "execution_count": null,
   "metadata": {},
   "outputs": [],
   "source": []
  }
 ],
 "metadata": {
  "kernelspec": {
   "display_name": "condapy12",
   "language": "python",
   "name": "python3"
  },
  "language_info": {
   "codemirror_mode": {
    "name": "ipython",
    "version": 3
   },
   "file_extension": ".py",
   "mimetype": "text/x-python",
   "name": "python",
   "nbconvert_exporter": "python",
   "pygments_lexer": "ipython3",
   "version": "3.12.7"
  }
 },
 "nbformat": 4,
 "nbformat_minor": 2
}
